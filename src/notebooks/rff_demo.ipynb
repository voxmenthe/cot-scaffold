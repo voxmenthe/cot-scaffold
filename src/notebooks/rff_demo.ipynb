{
 "cells": [
  {
   "cell_type": "code",
   "execution_count": 3,
   "id": "433b36cc",
   "metadata": {},
   "outputs": [],
   "source": [
    "from reason_from_future import reason_from_future\n",
    "from reason_from_future.specs import Game24Spec"
   ]
  },
  {
   "cell_type": "code",
   "execution_count": 4,
   "id": "67cf47d2",
   "metadata": {},
   "outputs": [
    {
     "name": "stderr",
     "output_type": "stream",
     "text": [
      "Both GOOGLE_API_KEY and GEMINI_API_KEY are set. Using GOOGLE_API_KEY.\n"
     ]
    },
    {
     "name": "stdout",
     "output_type": "stream",
     "text": [
      "--- LLM PROMPT (gemini-2.5-flash-preview-05-20) ---\n",
      "You are a strategic mathematician playing the 24-Game.\n",
      "Current expressions:\n",
      "[]\n",
      "Goal: reach exactly 24.\n",
      "Avoid: []\n",
      "\n",
      "Propose a single equation a OP b = c that gets closer to 24.\n",
      "Output ONLY that equation.\n",
      "---------------------------\n"
     ]
    },
    {
     "name": "stderr",
     "output_type": "stream",
     "text": [
      "Both GOOGLE_API_KEY and GEMINI_API_KEY are set. Using GOOGLE_API_KEY.\n"
     ]
    },
    {
     "name": "stdout",
     "output_type": "stream",
     "text": [
      "--- LLM RESPONSE (gemini-2.5-flash-preview-05-20) ---\n",
      "4 * 6 = 24\n",
      "----------------------------\n",
      "--- LLM PROMPT (gemini-2.5-flash-preview-05-20) ---\n",
      "Numbers available: [1, 3, 6, 11]\n",
      "Existing workspace lines:\n",
      "[]\n",
      "\n",
      "Your micro-goal to achieve now is:\n",
      "4 * 6 = 24\n",
      "\n",
      "Write exactly one new arithmetic line that makes the micro-goal true.\n",
      "Only use each original number at most once in total.\n",
      "Output ONLY the new line.\n",
      "---------------------------\n"
     ]
    },
    {
     "name": "stderr",
     "output_type": "stream",
     "text": [
      "Both GOOGLE_API_KEY and GEMINI_API_KEY are set. Using GOOGLE_API_KEY.\n"
     ]
    },
    {
     "name": "stdout",
     "output_type": "stream",
     "text": [
      "--- LLM RESPONSE (gemini-2.5-flash-preview-05-20) ---\n",
      "(1 + 3) * 6 = 24\n",
      "----------------------------\n",
      "--- LLM PROMPT (gemini-2.5-flash-preview-05-20) ---\n",
      "You are a strategic mathematician playing the 24-Game.\n",
      "Current expressions:\n",
      "[]\n",
      "Goal: reach exactly 24.\n",
      "Avoid: ['4 * 6 = 24']\n",
      "\n",
      "Propose a single equation a OP b = c that gets closer to 24.\n",
      "Output ONLY that equation.\n",
      "---------------------------\n"
     ]
    },
    {
     "name": "stderr",
     "output_type": "stream",
     "text": [
      "Both GOOGLE_API_KEY and GEMINI_API_KEY are set. Using GOOGLE_API_KEY.\n"
     ]
    },
    {
     "name": "stdout",
     "output_type": "stream",
     "text": [
      "--- LLM RESPONSE (gemini-2.5-flash-preview-05-20) ---\n",
      "12 + 12 = 24\n",
      "----------------------------\n",
      "--- LLM PROMPT (gemini-2.5-flash-preview-05-20) ---\n",
      "Numbers available: [1, 3, 6, 11]\n",
      "Existing workspace lines:\n",
      "[]\n",
      "\n",
      "Your micro-goal to achieve now is:\n",
      "12 + 12 = 24\n",
      "\n",
      "Write exactly one new arithmetic line that makes the micro-goal true.\n",
      "Only use each original number at most once in total.\n",
      "Output ONLY the new line.\n",
      "---------------------------\n"
     ]
    },
    {
     "name": "stderr",
     "output_type": "stream",
     "text": [
      "Both GOOGLE_API_KEY and GEMINI_API_KEY are set. Using GOOGLE_API_KEY.\n"
     ]
    },
    {
     "name": "stdout",
     "output_type": "stream",
     "text": [
      "--- LLM RESPONSE (gemini-2.5-flash-preview-05-20) ---\n",
      "(11 - 1) * 3 - 6 = 24\n",
      "----------------------------\n",
      "--- LLM PROMPT (gemini-2.5-flash-preview-05-20) ---\n",
      "You are a strategic mathematician playing the 24-Game.\n",
      "            Current expressions:\n",
      "            [\n",
      "  \"3 - 6 = 24\"\n",
      "]\n",
      "            Goal: reach exactly 24.\n",
      "            Avoid: ['4 * 6 = 24']\n",
      "\n",
      "            Propose a single equation a OP b = c that gets closer to 24.\n",
      "            Output ONLY that equation.\n",
      "---------------------------\n"
     ]
    },
    {
     "name": "stderr",
     "output_type": "stream",
     "text": [
      "Both GOOGLE_API_KEY and GEMINI_API_KEY are set. Using GOOGLE_API_KEY.\n"
     ]
    },
    {
     "name": "stdout",
     "output_type": "stream",
     "text": [
      "--- LLM RESPONSE (gemini-2.5-flash-preview-05-20) ---\n",
      "3 * 6 = 18\n",
      "----------------------------\n",
      "--- LLM PROMPT (gemini-2.5-flash-preview-05-20) ---\n",
      "Numbers available: [1, 3, 6, 11]\n",
      "            Existing workspace lines:\n",
      "            [\n",
      "  \"3 - 6 = 24\"\n",
      "]\n",
      "\n",
      "            Your micro-goal to achieve now is:\n",
      "            3 * 6 = 18\n",
      "\n",
      "            Write exactly one new arithmetic line that makes the micro-goal true.\n",
      "            Only use each original number at most once in total.\n",
      "            Output ONLY the new line.\n",
      "---------------------------\n"
     ]
    },
    {
     "name": "stderr",
     "output_type": "stream",
     "text": [
      "Both GOOGLE_API_KEY and GEMINI_API_KEY are set. Using GOOGLE_API_KEY.\n"
     ]
    },
    {
     "name": "stdout",
     "output_type": "stream",
     "text": [
      "--- LLM RESPONSE (gemini-2.5-flash-preview-05-20) ---\n",
      "3 * 6 = 18\n",
      "----------------------------\n",
      "--- LLM PROMPT (gemini-2.5-flash-preview-05-20) ---\n",
      "You are a strategic mathematician playing the 24-Game.\n",
      "            Current expressions:\n",
      "            [\n",
      "  \"3 - 6 = 24\",\n",
      "  \"3 * 6 = 18\"\n",
      "]\n",
      "            Goal: reach exactly 24.\n",
      "            Avoid: ['4 * 6 = 24']\n",
      "\n",
      "            Propose a single equation a OP b = c that gets closer to 24.\n",
      "            Output ONLY that equation.\n",
      "---------------------------\n"
     ]
    },
    {
     "name": "stderr",
     "output_type": "stream",
     "text": [
      "Both GOOGLE_API_KEY and GEMINI_API_KEY are set. Using GOOGLE_API_KEY.\n"
     ]
    },
    {
     "name": "stdout",
     "output_type": "stream",
     "text": [
      "--- LLM RESPONSE (gemini-2.5-flash-preview-05-20) ---\n",
      "18 + 6 = 24\n",
      "----------------------------\n",
      "--- LLM PROMPT (gemini-2.5-flash-preview-05-20) ---\n",
      "Numbers available: [1, 3, 6, 11]\n",
      "            Existing workspace lines:\n",
      "            [\n",
      "  \"3 - 6 = 24\",\n",
      "  \"3 * 6 = 18\"\n",
      "]\n",
      "\n",
      "            Your micro-goal to achieve now is:\n",
      "            18 + 6 = 24\n",
      "\n",
      "            Write exactly one new arithmetic line that makes the micro-goal true.\n",
      "            Only use each original number at most once in total.\n",
      "            Output ONLY the new line.\n",
      "---------------------------\n"
     ]
    },
    {
     "name": "stderr",
     "output_type": "stream",
     "text": [
      "Both GOOGLE_API_KEY and GEMINI_API_KEY are set. Using GOOGLE_API_KEY.\n"
     ]
    },
    {
     "name": "stdout",
     "output_type": "stream",
     "text": [
      "--- LLM RESPONSE (gemini-2.5-flash-preview-05-20) ---\n",
      "18 + 6 = 24\n",
      "----------------------------\n",
      "--- LLM PROMPT (gemini-2.5-flash-preview-05-20) ---\n",
      "You are a strategic mathematician playing the 24-Game.\n",
      "            Current expressions:\n",
      "            [\n",
      "  \"3 - 6 = 24\",\n",
      "  \"3 * 6 = 18\",\n",
      "  \"18 + 6 = 24\"\n",
      "]\n",
      "            Goal: reach exactly 24.\n",
      "            Avoid: ['4 * 6 = 24']\n",
      "\n",
      "            Propose a single equation a OP b = c that gets closer to 24.\n",
      "            Output ONLY that equation.\n",
      "---------------------------\n"
     ]
    },
    {
     "name": "stderr",
     "output_type": "stream",
     "text": [
      "Both GOOGLE_API_KEY and GEMINI_API_KEY are set. Using GOOGLE_API_KEY.\n"
     ]
    },
    {
     "name": "stdout",
     "output_type": "stream",
     "text": [
      "--- LLM RESPONSE (gemini-2.5-flash-preview-05-20) ---\n",
      "18 + 6 = 24\n",
      "----------------------------\n",
      "--- LLM PROMPT (gemini-2.5-flash-preview-05-20) ---\n",
      "Numbers available: [1, 3, 6, 11]\n",
      "            Existing workspace lines:\n",
      "            [\n",
      "  \"3 - 6 = 24\",\n",
      "  \"3 * 6 = 18\",\n",
      "  \"18 + 6 = 24\"\n",
      "]\n",
      "\n",
      "            Your micro-goal to achieve now is:\n",
      "            18 + 6 = 24\n",
      "\n",
      "            Write exactly one new arithmetic line that makes the micro-goal true.\n",
      "            Only use each original number at most once in total.\n",
      "            Output ONLY the new line.\n",
      "---------------------------\n",
      "--- LLM RESPONSE (gemini-2.5-flash-preview-05-20) ---\n",
      "18 + 6 = 24\n",
      "----------------------------\n",
      "Solution: 24\n"
     ]
    }
   ],
   "source": [
    "\n",
    "# Example: reach 24\n",
    "spec = Game24Spec([1, 3, 6, 11])\n",
    "answer = reason_from_future(\"Reach 24 with numbers [1,3,6,11]\", spec, verbose=True)\n",
    "print(\"Solution:\", answer)"
   ]
  },
  {
   "cell_type": "code",
   "execution_count": null,
   "id": "4ed1ca8f",
   "metadata": {},
   "outputs": [],
   "source": []
  }
 ],
 "metadata": {
  "kernelspec": {
   "display_name": "CoT Scaffold",
   "language": "python",
   "name": "cot-scaffold"
  },
  "language_info": {
   "codemirror_mode": {
    "name": "ipython",
    "version": 3
   },
   "file_extension": ".py",
   "mimetype": "text/x-python",
   "name": "python",
   "nbconvert_exporter": "python",
   "pygments_lexer": "ipython3",
   "version": "3.13.3"
  }
 },
 "nbformat": 4,
 "nbformat_minor": 5
}
