{
 "cells": [
  {
   "cell_type": "code",
   "execution_count": 1,
   "id": "433b36cc",
   "metadata": {},
   "outputs": [
    {
     "ename": "ModuleNotFoundError",
     "evalue": "No module named 'reason_from_future'",
     "output_type": "error",
     "traceback": [
      "\u001b[31m---------------------------------------------------------------------------\u001b[39m",
      "\u001b[31mModuleNotFoundError\u001b[39m                       Traceback (most recent call last)",
      "\u001b[36mCell\u001b[39m\u001b[36m \u001b[39m\u001b[32mIn[1]\u001b[39m\u001b[32m, line 1\u001b[39m\n\u001b[32m----> \u001b[39m\u001b[32m1\u001b[39m \u001b[38;5;28;01mfrom\u001b[39;00m\u001b[38;5;250m \u001b[39m\u001b[34;01mreason_from_future\u001b[39;00m\u001b[34;01m.\u001b[39;00m\u001b[34;01mcontroller\u001b[39;00m\u001b[38;5;250m \u001b[39m\u001b[38;5;28;01mimport\u001b[39;00m reason_from_future\n\u001b[32m      2\u001b[39m \u001b[38;5;28;01mfrom\u001b[39;00m\u001b[38;5;250m \u001b[39m\u001b[34;01mreason_from_future\u001b[39;00m\u001b[34;01m.\u001b[39;00m\u001b[34;01mspecs\u001b[39;00m\u001b[38;5;250m \u001b[39m\u001b[38;5;28;01mimport\u001b[39;00m Game24Spec\n\u001b[32m      4\u001b[39m \u001b[38;5;66;03m# Example: reach 24\u001b[39;00m\n",
      "\u001b[31mModuleNotFoundError\u001b[39m: No module named 'reason_from_future'"
     ]
    }
   ],
   "source": [
    "from reason_from_future.controller import reason_from_future\n",
    "from reason_from_future.specs import Game24Spec\n",
    "\n",
    "# Example: reach 24\n",
    "spec = Game24Spec([1, 3, 6, 11])\n",
    "answer = reason_from_future(\"Reach 24 with numbers [1,3,6,11]\", spec)\n",
    "print(\"Solution:\", answer)"
   ]
  },
  {
   "cell_type": "code",
   "execution_count": null,
   "id": "4ed1ca8f",
   "metadata": {},
   "outputs": [],
   "source": []
  }
 ],
 "metadata": {
  "kernelspec": {
   "display_name": "CoT Scaffold",
   "language": "python",
   "name": "cot-scaffold"
  },
  "language_info": {
   "codemirror_mode": {
    "name": "ipython",
    "version": 3
   },
   "file_extension": ".py",
   "mimetype": "text/x-python",
   "name": "python",
   "nbconvert_exporter": "python",
   "pygments_lexer": "ipython3",
   "version": "3.13.3"
  }
 },
 "nbformat": 4,
 "nbformat_minor": 5
}
